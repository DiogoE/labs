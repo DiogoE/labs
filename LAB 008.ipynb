{
 "cells": [
  {
   "cell_type": "markdown",
   "metadata": {},
   "source": [
    "# Lab 8 \n",
    "\n",
    "A simple chatbot\n",
    "\n",
    "**1.** Create a function that asks the user his name and says Hello, John Doe\n",
    "\n",
    "**2.** Create a function called chat that ask the user what is his problem and will answer \"yes of course\"\n",
    "\n",
    "**3.** Create a function called chat that ask the user what is his problem and will answer randomly among 6 possible answers\n",
    "\n",
    "**4.** Put all together and improve\n"
   ]
  },
  {
   "cell_type": "markdown",
   "metadata": {},
   "source": [
    "**1.** Create a function that ask the user his name and says Hello, John Doe"
   ]
  },
  {
   "cell_type": "code",
   "execution_count": 1,
   "metadata": {},
   "outputs": [
    {
     "name": "stdout",
     "output_type": "stream",
     "text": [
      "what's your name?Diogo\n"
     ]
    },
    {
     "data": {
      "text/plain": [
       "'Nice to meet you Diogo'"
      ]
     },
     "execution_count": 1,
     "metadata": {},
     "output_type": "execute_result"
    }
   ],
   "source": [
    "# Create a function that ask the user his name and says Hello, John Doe\n",
    "\n",
    "def chat1(question,answer):\n",
    "    msg=\"\"\n",
    "    while msg==\"\":\n",
    "        msg= input(question)\n",
    "    return str(answer)+ \" \"+ str(msg)\n",
    "    \n",
    "chat1(\"what's your name?\", \"Nice to meet you\")"
   ]
  },
  {
   "cell_type": "markdown",
   "metadata": {},
   "source": [
    "2.  Create a function called chat that ask the user what is his problem and will answer \"yes of course\""
   ]
  },
  {
   "cell_type": "code",
   "execution_count": 2,
   "metadata": {},
   "outputs": [
    {
     "name": "stdout",
     "output_type": "stream",
     "text": [
      "what's your problem?sgd\n",
      "yes, of course\n",
      "what's your problem?bye\n",
      "yes, of course\n"
     ]
    }
   ],
   "source": [
    "# Create a function called chat that ask the user what is his problem and will answer \"yes of course\"\n",
    "def chat2():\n",
    "    problem=\"\"\n",
    "    while problem!=\"bye\":\n",
    "        problem=input(\"what's your problem?\")\n",
    "        print(\"yes, of course\")\n",
    "chat2()\n",
    "    "
   ]
  },
  {
   "cell_type": "markdown",
   "metadata": {},
   "source": [
    "3. Create a function called chat that ask the user what is his problem and will answer randomly among 6 possible answers"
   ]
  },
  {
   "cell_type": "code",
   "execution_count": 5,
   "metadata": {},
   "outputs": [
    {
     "name": "stdout",
     "output_type": "stream",
     "text": [
      "What's your problem?frg\n",
      "maybe\n",
      "What's your problem?ok\n",
      "no\n"
     ]
    }
   ],
   "source": [
    "# Create a function called chat that ask the user what is his problem and will answer randomly among 6 possible answers\n",
    "\n",
    "import random\n",
    "\n",
    "randomAnswer=[\"yes\",\"no\",\"of course\",\"maybe\",\"no problem\",\"life is great\"]\n",
    "\n",
    "def chat3():\n",
    "    problem1=\" \"\n",
    "    while problem1!=\"ok\":\n",
    "        problem1 = input(\"What's your problem?\")\n",
    "        print(random.choice(randomAnswer))\n",
    "chat3()"
   ]
  },
  {
   "cell_type": "markdown",
   "metadata": {},
   "source": [
    "4.** Put all together and improve"
   ]
  },
  {
   "cell_type": "code",
   "execution_count": 6,
   "metadata": {},
   "outputs": [
    {
     "name": "stdout",
     "output_type": "stream",
     "text": [
      "what's your name?Diogo\n",
      "Nice to meet you Diogo\n",
      "what's your problem?fhuij\n",
      "yes, of course\n",
      "what's your problem?bye7\n",
      "yes, of course\n",
      "what's your problem?bye\n",
      "yes, of course\n",
      "What's your problem?fS\n",
      "life is great\n",
      "What's your problem?OK\n",
      "life is great\n",
      "What's your problem?ok\n",
      "yes\n"
     ]
    }
   ],
   "source": [
    "print(chat1(\"what's your name?\", \"Nice to meet you\"))\n",
    "chat2()\n",
    "chat3()"
   ]
  },
  {
   "cell_type": "code",
   "execution_count": null,
   "metadata": {},
   "outputs": [],
   "source": []
  }
 ],
 "metadata": {
  "kernelspec": {
   "display_name": "Python 3",
   "language": "python",
   "name": "python3"
  },
  "language_info": {
   "codemirror_mode": {
    "name": "ipython",
    "version": 3
   },
   "file_extension": ".py",
   "mimetype": "text/x-python",
   "name": "python",
   "nbconvert_exporter": "python",
   "pygments_lexer": "ipython3",
   "version": "3.7.3"
  }
 },
 "nbformat": 4,
 "nbformat_minor": 2
}
